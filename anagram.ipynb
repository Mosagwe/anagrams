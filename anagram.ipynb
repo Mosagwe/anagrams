{
 "cells": [
  {
   "cell_type": "code",
   "execution_count": 62,
   "metadata": {},
   "outputs": [
    {
     "name": "stdout",
     "output_type": "stream",
     "text": [
      "List of Anagrams\n",
      "==========================\n",
      "['at', 'ta']\n",
      "['bar', 'bra']\n",
      "['bry', 'byr']\n",
      "['dem', 'med']\n",
      "['den', 'ned']\n",
      "['denne', 'enden']\n",
      "['dra', 'rad']\n",
      "['dro', 'ord', 'rod']\n",
      "['ende', 'nede']\n",
      "['engang', 'gangen']\n",
      "['ens', 'sen']\n",
      "['etter', 'rette']\n",
      "['glinset', 'glinste']\n",
      "['hellestein', 'steinhelle']\n",
      "['kisten', 'skinte']\n",
      "['kristent', 'kristnet']\n",
      "['krok', 'rokk']\n",
      "['lovt', 'tolv']\n",
      "['lysnet', 'lysten']\n",
      "['løst', 'støl']\n",
      "['mor', 'rom']\n",
      "['navn', 'vann']\n",
      "['niste', 'stien']\n",
      "['ordet', 'torde']\n",
      "['ristet', 'sitter']\n",
      "['rå', 'år']\n",
      "['stuen', 'suten']\n",
      "['søsteren', 'søstrene']\n",
      "['truet', 'turte']\n"
     ]
    }
   ],
   "source": [
    "# Import Library\n",
    "import collections\n",
    "\n",
    "# create a function to find anagram\n",
    "def fetch_anagrams(source):\n",
    "    d = collections.defaultdict(list)\n",
    "    for word in source:\n",
    "        # Normalize the words to same case\n",
    "        word=word.lower()\n",
    "        # Generate a sorted key for anagrams\n",
    "        key = \"\".join(sorted(word))\n",
    "        # Create a dictionary of words with the same key\n",
    "        d[key].append(word)\n",
    "    return d\n",
    "\n",
    "# a function to print anagrams\n",
    "def output_anagrams(word_source):\n",
    "    # Get the anagrams\n",
    "    d = fetch_anagrams(word_source)\n",
    "    # Loop through and print words that have one or more anagrams\n",
    "    for key, anagrams in d.items():\n",
    "        if len(anagrams) > 1:\n",
    "            print(anagrams)\n",
    "\n",
    "# function to load a file that contains the words\n",
    "def load_file(file):\n",
    "    # Read the file\n",
    "    with open('./words-utf8.txt','r') as f:\n",
    "        # Create a List of words\n",
    "        word_list=f.read().split()\n",
    "    return word_list\n",
    "\n",
    "# Main function to execute the program\n",
    "def main():\n",
    "    # Load the actual file that contains the words.\n",
    "    file='./words-utf8.txt';\n",
    "    word_list=load_file(file)\n",
    "    # Print the anagrams\n",
    "    output_anagrams(word_list)\n",
    "\n",
    "if __name__==\"__main__\":\n",
    "    print(\"List of Anagrams\")\n",
    "    print(\"==========================\")\n",
    "    main()"
   ]
  }
 ],
 "metadata": {
  "kernelspec": {
   "display_name": "Python 3.9.12 ('base')",
   "language": "python",
   "name": "python3"
  },
  "language_info": {
   "codemirror_mode": {
    "name": "ipython",
    "version": 3
   },
   "file_extension": ".py",
   "mimetype": "text/x-python",
   "name": "python",
   "nbconvert_exporter": "python",
   "pygments_lexer": "ipython3",
   "version": "3.9.12"
  },
  "orig_nbformat": 4,
  "vscode": {
   "interpreter": {
    "hash": "40d3a090f54c6569ab1632332b64b2c03c39dcf918b08424e98f38b5ae0af88f"
   }
  }
 },
 "nbformat": 4,
 "nbformat_minor": 2
}
